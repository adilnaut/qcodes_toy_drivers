{
 "cells": [
  {
   "cell_type": "markdown",
   "id": "8d3d6250-e7fd-4fd3-9e88-8eaacd4aaf81",
   "metadata": {},
   "source": [
    "### Return multiple items at once, where each item can be a single value or an array"
   ]
  },
  {
   "cell_type": "code",
   "execution_count": 1,
   "id": "96b2b241-c8af-48c4-b13a-c1325235a5c9",
   "metadata": {},
   "outputs": [],
   "source": [
    "# Note: Most of the kwarg names here are the plural of those used in Parameter and ArrayParameter.\n",
    "# In particular, MultiParameter is the ONLY one that uses units, all the others use unit"
   ]
  },
  {
   "cell_type": "code",
   "execution_count": 3,
   "id": "f8ca687f-3406-4060-9b98-4c3d12c993ca",
   "metadata": {},
   "outputs": [],
   "source": [
    "# MultiParameter is, for now, only gettable"
   ]
  },
  {
   "cell_type": "code",
   "execution_count": 4,
   "id": "5725c914-36d4-4bb8-8c41-ef66a11b4dcb",
   "metadata": {},
   "outputs": [],
   "source": [
    "import numpy as np\n",
    "\n",
    "from qcodes.parameters import ManualParameter, MultiParameter"
   ]
  },
  {
   "cell_type": "code",
   "execution_count": 5,
   "id": "0ad30e24-ea8b-4aa0-b052-ae8bf2b348d5",
   "metadata": {},
   "outputs": [
    {
     "name": "stdout",
     "output_type": "stream",
     "text": [
      "simple get (2, 1.0)\n"
     ]
    }
   ],
   "source": [
    "class SingleIQPair(MultiParameter):\n",
    "    def __init__(self, scale_param):\n",
    "        # only name, names and shapes are required\n",
    "        # this version returns two scalars (shape = `()`) \n",
    "        super().__init__('single_iq', names=('I', 'Q'), shapes=((), ()),\n",
    "                         labels=('In phase amplitude', 'Quadrature amplitude'),\n",
    "                         units=('V', 'V'),\n",
    "                         # including these setpoints in unnecessary here, but\n",
    "                         # if you have a parameter that returns a scalar alongside\n",
    "                         # an array you can represent the scalar as an empty sequence\n",
    "                         setpoints=((), ()),\n",
    "                         docstring='param that returns two single values, I and Q') \n",
    "        self._scale_param = scale_param\n",
    "\n",
    "    def get_raw(self):\n",
    "        scale_val = self._scale_param()\n",
    "        return (scale_val, scale_val / 2)\n",
    "\n",
    "scale = ManualParameter('scale', initial_value=2)\n",
    "iq = SingleIQPair(scale_param=scale)\n",
    "\n",
    "# simple get\n",
    "print('simple get', iq())"
   ]
  },
  {
   "cell_type": "code",
   "execution_count": 6,
   "id": "b140eabb-81e7-47c7-a6fc-52427b6ba86e",
   "metadata": {},
   "outputs": [
    {
     "name": "stdout",
     "output_type": "stream",
     "text": [
      "simple get (array([0, 2, 4, 6, 8]), array([0., 1., 2., 3., 4.]))\n"
     ]
    }
   ],
   "source": [
    "class IQArray(MultiParameter):\n",
    "    def __init__(self, scale_param):\n",
    "        # names, labels, and units are the same \n",
    "        super().__init__('iq_array', names=('I', 'Q'), shapes=((5,), (5,)), \n",
    "                         labels=('In phase amplitude', 'Quadrature amplitude'),\n",
    "                         units=('V', 'V'),\n",
    "\n",
    "                         # note that EACH item needs a sequence of setpoint arrays\n",
    "                         # so a 1D item has its setpoints wrapped in a length-1 tuple\n",
    "                         setpoints=(((0, 1, 2, 3, 4),), ((0, 1, 2, 3, 4), )),\n",
    "                         docstring='param that returns two single values, I and Q')\n",
    "        self._scale_param = scale_param\n",
    "        self._indices = np.array([0, 1, 2, 3, 4])\n",
    "\n",
    "    def get_raw(self):\n",
    "        scale_val = self._scale_param()\n",
    "        return (self._indices * scale_val, self._indices * scale_val / 2)\n",
    "\n",
    "iq_array = IQArray(scale_param=scale)\n",
    "\n",
    "# simple get\n",
    "print('simple get', iq_array())"
   ]
  },
  {
   "cell_type": "code",
   "execution_count": null,
   "id": "12b766e1-b1ce-4f40-a307-ae1293a6181d",
   "metadata": {},
   "outputs": [],
   "source": []
  }
 ],
 "metadata": {
  "kernelspec": {
   "display_name": "Python 3 Quantify Env",
   "language": "python",
   "name": "quantify-env"
  },
  "language_info": {
   "codemirror_mode": {
    "name": "ipython",
    "version": 3
   },
   "file_extension": ".py",
   "mimetype": "text/x-python",
   "name": "python",
   "nbconvert_exporter": "python",
   "pygments_lexer": "ipython3",
   "version": "3.8.17"
  }
 },
 "nbformat": 4,
 "nbformat_minor": 5
}
