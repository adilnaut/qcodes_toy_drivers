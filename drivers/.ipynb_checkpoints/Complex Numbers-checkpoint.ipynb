{
 "cells": [
  {
   "cell_type": "code",
   "execution_count": 1,
   "id": "b6fb3395-c7c2-4009-b164-b96ebd1597ab",
   "metadata": {},
   "outputs": [],
   "source": [
    "import numpy as np"
   ]
  },
  {
   "cell_type": "markdown",
   "id": "c919559c-7258-4f4f-a5de-8dfb7dc6b904",
   "metadata": {},
   "source": [
    "### Complex impedance"
   ]
  },
  {
   "cell_type": "code",
   "execution_count": 4,
   "id": "35c2af6a-93a5-44fa-86ed-d2941196a033",
   "metadata": {},
   "outputs": [],
   "source": [
    "## first add input validation \n",
    "from qcodes.parameters import Parameter\n",
    "from qcodes.validators import ComplexNumbers"
   ]
  },
  {
   "cell_type": "code",
   "execution_count": 12,
   "id": "197e697a-e789-45b8-85bf-b3a4b27e5909",
   "metadata": {},
   "outputs": [],
   "source": [
    "imp = Parameter(name='imp',\n",
    "                label='Impedance',\n",
    "                unit='Ohm',\n",
    "                initial_value=50+0j,\n",
    "                set_cmd=None,\n",
    "                get_cmd=None,\n",
    "                vals=ComplexNumbers())"
   ]
  },
  {
   "cell_type": "code",
   "execution_count": 14,
   "id": "fa16bdd1-bd9a-42f3-b926-b17df8810245",
   "metadata": {},
   "outputs": [
    {
     "name": "stdout",
     "output_type": "stream",
     "text": [
      "Sorry, but 1.0 is not complex\n",
      "Sorry, but -1.0 is not complex\n",
      "Sorry, but 8.2 is not complex\n",
      "Sorry, but 3.141592653589793 is not complex\n",
      "Sorry, but 0.0 is not complex\n"
     ]
    }
   ],
   "source": [
    "for value in np.array([1, -1, 8.2, np.pi, 0]):\n",
    "    try: \n",
    "        imp(value)\n",
    "        print(\"Success\")\n",
    "    except TypeError:\n",
    "        print(f\"Sorry, but {value} is not complex\")"
   ]
  },
  {
   "cell_type": "code",
   "execution_count": 15,
   "id": "e48418aa-0e5d-4359-b96a-283c01b721e2",
   "metadata": {},
   "outputs": [
    {
     "name": "stdout",
     "output_type": "stream",
     "text": [
      "Success\n",
      "Success\n",
      "Success\n",
      "Success\n",
      "Success\n"
     ]
    }
   ],
   "source": [
    "for value in np.array([1, -1, 8.2, np.pi, 0]) + 0j:\n",
    "    try: \n",
    "        imp(value)\n",
    "        print(\"Success\")\n",
    "    except TypeError:\n",
    "        print(f\"Sorry, but {value} is not complex\")"
   ]
  },
  {
   "cell_type": "code",
   "execution_count": 7,
   "id": "5a74f19d-a2b7-4d2b-8807-7595a7f94195",
   "metadata": {},
   "outputs": [],
   "source": [
    "from qcodes.validators import Arrays"
   ]
  },
  {
   "cell_type": "code",
   "execution_count": 9,
   "id": "1d4ed12a-14da-4939-b52f-30ccd0cfa0bd",
   "metadata": {},
   "outputs": [],
   "source": [
    "amps_val_strict = Arrays(shape=(5,), valid_types=(np.complexfloating,))\n",
    "amps_val_lax = Arrays(shape=(5,), valid_types=(np.complexfloating, np.floating, np.integer))"
   ]
  },
  {
   "cell_type": "code",
   "execution_count": 10,
   "id": "644f7c8e-e42a-400c-accb-b56039ff0271",
   "metadata": {},
   "outputs": [
    {
     "name": "stdout",
     "output_type": "stream",
     "text": [
      "[1.+0.j 2.+0.j 3.+0.j 4.+0.j 5.+0.j]\n",
      "complex128\n"
     ]
    }
   ],
   "source": [
    "# note that the presence of a single imaginary part will cast the whole array as complex\n",
    "\n",
    "my_array = np.array([1.0 + 0j, 2.0, 3.0, 4.0, 5.0]) \n",
    "print(my_array)\n",
    "print(my_array.dtype)\n",
    "amps_val_strict.validate(np.array([1.0 + 0j, 2.0, 3.0, 4.0, 5.0]))"
   ]
  },
  {
   "cell_type": "code",
   "execution_count": 18,
   "id": "f80e7f6c-ad16-4bec-bce5-2794763b8022",
   "metadata": {},
   "outputs": [],
   "source": [
    "amplitudes = Parameter(name='amplitudes',\n",
    "                        label='Amplitudes',\n",
    "                        unit='',\n",
    "                        set_cmd=None,\n",
    "                        get_cmd=None,\n",
    "                        vals=amps_val_strict,\n",
    "                        initial_value=(1/np.sqrt(2)*np.array([1+1j, 0, 0, 0, 0])))"
   ]
  },
  {
   "cell_type": "code",
   "execution_count": 19,
   "id": "2114e578-97c8-4061-9e5d-9476ea723295",
   "metadata": {},
   "outputs": [
    {
     "data": {
      "text/plain": [
       "array([0.70710678+0.70710678j, 0.        +0.j        ,\n",
       "       0.        +0.j        , 0.        +0.j        ,\n",
       "       0.        +0.j        ])"
      ]
     },
     "execution_count": 19,
     "metadata": {},
     "output_type": "execute_result"
    }
   ],
   "source": [
    "amplitudes()"
   ]
  },
  {
   "cell_type": "code",
   "execution_count": 20,
   "id": "eb1baeb9-e0dc-4110-8822-4f8f20546987",
   "metadata": {},
   "outputs": [],
   "source": [
    "amplitudes(1/np.sqrt(2)*np.array([0, 1+1j, 0, 0, 0]))"
   ]
  },
  {
   "cell_type": "code",
   "execution_count": 21,
   "id": "58ba0e12-7995-4fd1-9a95-189df1b50899",
   "metadata": {},
   "outputs": [
    {
     "data": {
      "text/plain": [
       "array([0.        +0.j        , 0.70710678+0.70710678j,\n",
       "       0.        +0.j        , 0.        +0.j        ,\n",
       "       0.        +0.j        ])"
      ]
     },
     "execution_count": 21,
     "metadata": {},
     "output_type": "execute_result"
    }
   ],
   "source": [
    "amplitudes()"
   ]
  },
  {
   "cell_type": "code",
   "execution_count": null,
   "id": "2c2f0edc-c86a-43bf-823d-5ad555fc4601",
   "metadata": {},
   "outputs": [],
   "source": []
  }
 ],
 "metadata": {
  "kernelspec": {
   "display_name": "Python 3 Quantify Env",
   "language": "python",
   "name": "quantify-env"
  },
  "language_info": {
   "codemirror_mode": {
    "name": "ipython",
    "version": 3
   },
   "file_extension": ".py",
   "mimetype": "text/x-python",
   "name": "python",
   "nbconvert_exporter": "python",
   "pygments_lexer": "ipython3",
   "version": "3.8.17"
  }
 },
 "nbformat": 4,
 "nbformat_minor": 5
}
