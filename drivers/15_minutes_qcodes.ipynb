{
 "cells": [
  {
   "cell_type": "code",
   "execution_count": 1,
   "id": "271c502d-ce6f-440c-9e09-a975386e9872",
   "metadata": {},
   "outputs": [],
   "source": [
    "import numpy as np\n",
    "\n",
    "import qcodes as qc\n",
    "\n",
    "## Multidimensional scanning module\n",
    "from qcodes.dataset import (\n",
    "    LinSweep,\n",
    "    Measurement,\n",
    "    dond,\n",
    "    experiments,\n",
    "    initialise_or_create_database_at,\n",
    "    load_by_run_spec,\n",
    "    load_or_create_experiment,\n",
    "    plot_dataset,\n",
    ")\n",
    "\n",
    "## Using interactive widget\n",
    "from qcodes.interactive_widget import experiments_widget\n",
    "\n",
    "## Dummy instruments for generating synthetic data\n",
    "from qcodes.tests.instrument_mocks import (\n",
    "    DummyInstrument,\n",
    "    DummyInstrumentWithMeasurement,\n",
    ")"
   ]
  },
  {
   "cell_type": "code",
   "execution_count": 2,
   "id": "ff57810e-ba28-4118-89e1-9c4f1ab5e185",
   "metadata": {},
   "outputs": [],
   "source": [
    "# A dummy signal generator with two parameters ch1 and ch2\n",
    "dac = DummyInstrument('dac', gates=['ch1', 'ch2'])\n",
    "\n",
    "# A dummy digital multimeter that generates a synthetic data depending\n",
    "# on the values set on the setter_instr, in this case the dummy dac\n",
    "dmm = DummyInstrumentWithMeasurement('dmm', setter_instr=dac)"
   ]
  },
  {
   "cell_type": "code",
   "execution_count": 3,
   "id": "e5bd348a-db83-484f-84c2-3bcdb90a3b8a",
   "metadata": {},
   "outputs": [
    {
     "name": "stdout",
     "output_type": "stream",
     "text": [
      "dmm:\n",
      "\tparameter value\n",
      "--------------------------------------------------------------------------------\n",
      "IDN :\tNone \n",
      "v1  :\t0 (V)\n",
      "v2  :\t0 (V)\n"
     ]
    }
   ],
   "source": [
    "dmm.print_readable_snapshot()"
   ]
  },
  {
   "cell_type": "code",
   "execution_count": 33,
   "id": "f7d04db4-8f63-407b-9628-7640f8689506",
   "metadata": {},
   "outputs": [],
   "source": [
    "dac.ch1(1.1)"
   ]
  },
  {
   "cell_type": "code",
   "execution_count": 35,
   "id": "3874d1e2-ed1c-4139-a592-0c0e4c577350",
   "metadata": {},
   "outputs": [
    {
     "data": {
      "text/plain": [
       "4.101750832165395"
      ]
     },
     "execution_count": 35,
     "metadata": {},
     "output_type": "execute_result"
    }
   ],
   "source": [
    "dmm.v1()"
   ]
  },
  {
   "cell_type": "code",
   "execution_count": 36,
   "id": "5ad72109-d4d8-47a4-b408-bdde2c897a07",
   "metadata": {},
   "outputs": [],
   "source": [
    "station = qc.Station()"
   ]
  },
  {
   "cell_type": "code",
   "execution_count": 37,
   "id": "3c0357da-3ec4-4508-abf3-4003c2de1402",
   "metadata": {},
   "outputs": [
    {
     "data": {
      "text/plain": [
       "'dmm'"
      ]
     },
     "execution_count": 37,
     "metadata": {},
     "output_type": "execute_result"
    }
   ],
   "source": [
    "station.add_component(dac)\n",
    "station.add_component(dmm)"
   ]
  },
  {
   "cell_type": "code",
   "execution_count": 38,
   "id": "0951b682-324a-47ee-87a3-58803b091816",
   "metadata": {},
   "outputs": [],
   "source": [
    "# Remove the ``_ = `` part to see the full snapshot\n",
    "_ = station.snapshot()"
   ]
  },
  {
   "cell_type": "code",
   "execution_count": 39,
   "id": "1064fcd5-c1c2-4731-9a68-5ddd7dccc37a",
   "metadata": {},
   "outputs": [],
   "source": [
    "initialise_or_create_database_at(\"~/experiments_for_15_mins.db\")"
   ]
  },
  {
   "cell_type": "code",
   "execution_count": 40,
   "id": "c5dbd635-2774-4c76-82e3-c5695253a016",
   "metadata": {},
   "outputs": [
    {
     "data": {
      "text/plain": [
       "'~/experiments_for_15_mins.db'"
      ]
     },
     "execution_count": 40,
     "metadata": {},
     "output_type": "execute_result"
    }
   ],
   "source": [
    "qc.config.core.db_location"
   ]
  },
  {
   "cell_type": "code",
   "execution_count": 41,
   "id": "78e301df-2cd0-4464-8daf-c8118bcd5110",
   "metadata": {},
   "outputs": [],
   "source": [
    "tutorial_exp = load_or_create_experiment(\n",
    "    experiment_name=\"tutorial_exp\",\n",
    "    sample_name=\"synthetic data\"\n",
    ")"
   ]
  },
  {
   "cell_type": "code",
   "execution_count": 13,
   "id": "dbc99804-9e67-434d-af08-3cb8b4589b37",
   "metadata": {},
   "outputs": [],
   "source": [
    "context_meas = Measurement(exp=tutorial_exp, station=station, name='context_example')"
   ]
  },
  {
   "cell_type": "code",
   "execution_count": 42,
   "id": "4a0335f7-2cea-410c-aa1a-581bc690e4cd",
   "metadata": {},
   "outputs": [
    {
     "data": {
      "text/plain": [
       "<qcodes.dataset.measurements.Measurement at 0x1b5ead83ee0>"
      ]
     },
     "execution_count": 42,
     "metadata": {},
     "output_type": "execute_result"
    }
   ],
   "source": [
    "# Register the independent parameter...\n",
    "context_meas.register_parameter(dac.ch1)\n",
    "# ...then register the dependent parameter\n",
    "context_meas.register_parameter(dmm.v1, setpoints=(dac.ch1,))"
   ]
  },
  {
   "cell_type": "code",
   "execution_count": 15,
   "id": "898e695d-abf7-4894-8500-c615b9c43f91",
   "metadata": {},
   "outputs": [
    {
     "name": "stdout",
     "output_type": "stream",
     "text": [
      "Starting experimental run with id: 1. \n"
     ]
    }
   ],
   "source": [
    "# Time for periodic background database writes\n",
    "context_meas.write_period = 2\n",
    "\n",
    "with context_meas.run() as datasaver:\n",
    "    for set_v in np.linspace(0, 25, 10):\n",
    "        dac.ch1.set(set_v)\n",
    "        get_v = dmm.v1.get()\n",
    "        datasaver.add_result((dac.ch1, set_v),\n",
    "                             (dmm.v1, get_v))\n",
    "\n",
    "    # Convenient to have for plotting and data access\n",
    "    dataset = datasaver.dataset"
   ]
  },
  {
   "cell_type": "code",
   "execution_count": 16,
   "id": "459f1c4f-57c6-4ea1-bca6-395d1a06028f",
   "metadata": {},
   "outputs": [],
   "source": [
    "# Setting up a doNd measurement\n",
    "sweep_1 = LinSweep(dac.ch1, -1, 1, 20, 0.01)\n",
    "sweep_2 = LinSweep(dac.ch2, -1, 1, 20, 0.01)"
   ]
  },
  {
   "cell_type": "code",
   "execution_count": 17,
   "id": "aaed9640-d56f-4ddd-9e6f-734782d05f23",
   "metadata": {},
   "outputs": [
    {
     "name": "stdout",
     "output_type": "stream",
     "text": [
      "Starting experimental run with id: 2. Using 'qcodes.dataset.dond'\n"
     ]
    },
    {
     "data": {
      "application/vnd.jupyter.widget-view+json": {
       "model_id": "00f0c8919d114d7c95c0c5a9483158b7",
       "version_major": 2,
       "version_minor": 0
      },
      "text/plain": [
       "  0%|          | 0/400 [00:00<?, ?it/s]"
      ]
     },
     "metadata": {},
     "output_type": "display_data"
    },
    {
     "data": {
      "text/plain": [
       "(dond_example #2@C:\\Users\\adiln\\experiments_for_15_mins.db\n",
       " ---------------------------------------------------------\n",
       " dac_ch1 - numeric\n",
       " dac_ch2 - numeric\n",
       " dmm_v1 - numeric\n",
       " dmm_v2 - numeric,\n",
       " (None,),\n",
       " (None,))"
      ]
     },
     "execution_count": 17,
     "metadata": {},
     "output_type": "execute_result"
    }
   ],
   "source": [
    "dond(\n",
    "    sweep_1,                          # 1st independent parameter\n",
    "    sweep_2,                          # 2nd independent parameter\n",
    "    dmm.v1,                           # 1st dependent parameter\n",
    "    dmm.v2,                           # 2nd dependent parameter\n",
    "    measurement_name=\"dond_example\",  # Set the measurement name\n",
    "    exp=tutorial_exp,                 # Set the experiment to save data to.\n",
    "    show_progress=True                # Optional progress bar\n",
    ")"
   ]
  },
  {
   "cell_type": "code",
   "execution_count": 18,
   "id": "172ec070-00bc-49a7-9aa9-3f08d20fc9ed",
   "metadata": {},
   "outputs": [
    {
     "data": {
      "text/plain": [
       "[tutorial_exp#synthetic data#1@C:\\Users\\adiln\\experiments_for_15_mins.db\n",
       " -----------------------------------------------------------------------\n",
       " 1-context_example-1-dac_ch1,dmm_v1-10\n",
       " 2-dond_example-2-dac_ch1,dac_ch2,dmm_v1,dmm_v2-800]"
      ]
     },
     "execution_count": 18,
     "metadata": {},
     "output_type": "execute_result"
    }
   ],
   "source": [
    "experiments()"
   ]
  },
  {
   "cell_type": "code",
   "execution_count": 19,
   "id": "87950eca-d944-4394-b897-f826922d2c6f",
   "metadata": {},
   "outputs": [
    {
     "data": {
      "text/plain": [
       "[context_example #1@C:\\Users\\adiln\\experiments_for_15_mins.db\n",
       " ------------------------------------------------------------\n",
       " dac_ch1 - numeric\n",
       " dmm_v1 - numeric,\n",
       " dond_example #2@C:\\Users\\adiln\\experiments_for_15_mins.db\n",
       " ---------------------------------------------------------\n",
       " dac_ch1 - numeric\n",
       " dac_ch2 - numeric\n",
       " dmm_v1 - numeric\n",
       " dmm_v2 - numeric]"
      ]
     },
     "execution_count": 19,
     "metadata": {},
     "output_type": "execute_result"
    }
   ],
   "source": [
    "tutorial_exp.data_sets()"
   ]
  },
  {
   "cell_type": "code",
   "execution_count": 21,
   "id": "06f3e4bd-5c3c-444e-8430-240b3affd78b",
   "metadata": {},
   "outputs": [],
   "source": [
    "dataset_1d = load_by_run_spec(experiment_name='tutorial_exp', captured_run_id=1)\n",
    "dataset_2d = load_by_run_spec(experiment_name='tutorial_exp', captured_run_id=2)"
   ]
  },
  {
   "cell_type": "code",
   "execution_count": 22,
   "id": "76342b42-93a2-4c65-baf8-7e2278c78ab1",
   "metadata": {},
   "outputs": [
    {
     "name": "stderr",
     "output_type": "stream",
     "text": [
      "Trying to mark a run completed that was already completed.\n"
     ]
    },
    {
     "data": {
      "text/plain": [
       "([<Axes: title={'center': 'Run #1, Experiment tutorial_exp (synthetic data)'}, xlabel='Gate ch1 (V)', ylabel='Gate v1 (V)'>],\n",
       " [None])"
      ]
     },
     "execution_count": 22,
     "metadata": {},
     "output_type": "execute_result"
    },
    {
     "data": {
      "image/png": "[encoded data removed]",
      "text/plain": [
       "<Figure size 640x480 with 1 Axes>"
      ]
     },
     "metadata": {},
     "output_type": "display_data"
    }
   ],
   "source": [
    "# Plotting 1d dataset\n",
    "plot_dataset(dataset_1d)"
   ]
  },
  {
   "cell_type": "code",
   "execution_count": 23,
   "id": "d6982a24-42b2-4bd5-8ce6-9758cb9c0cf5",
   "metadata": {},
   "outputs": [
    {
     "name": "stderr",
     "output_type": "stream",
     "text": [
      "Trying to mark a run completed that was already completed.\n"
     ]
    },
    {
     "data": {
      "text/plain": [
       "([<Axes: title={'center': 'Run #2, Experiment tutorial_exp (synthetic data)'}, xlabel='Gate ch1 (V)', ylabel='Gate ch2 (V)'>,\n",
       "  <Axes: title={'center': 'Run #2, Experiment tutorial_exp (synthetic data)'}, xlabel='Gate ch1 (V)', ylabel='Gate ch2 (V)'>],\n",
       " [<matplotlib.colorbar.Colorbar at 0x1b5ebd8bf40>,\n",
       "  <matplotlib.colorbar.Colorbar at 0x1b5ebde0c10>])"
      ]
     },
     "execution_count": 23,
     "metadata": {},
     "output_type": "execute_result"
    },
    {
     "data": {
      "image/png": "[encoded data removed]",
      "text/plain": [
       "<Figure size 640x480 with 2 Axes>"
      ]
     },
     "metadata": {},
     "output_type": "display_data"
    },
    {
     "data": {
      "image/png": "[encoded data removed]",
      "text/plain": [
       "<Figure size 640x480 with 2 Axes>"
      ]
     },
     "metadata": {},
     "output_type": "display_data"
    }
   ],
   "source": [
    "# Plotting 2d dataset as heatmaps\n",
    "plot_dataset(dataset_2d)"
   ]
  },
  {
   "cell_type": "code",
   "execution_count": 24,
   "id": "419c2671-fb06-48f3-a398-322bf1d013d7",
   "metadata": {},
   "outputs": [
    {
     "data": {
      "text/plain": [
       "{'dmm_v1': {'dmm_v1': array([4.86086231, 2.69953177, 1.77117235, 1.03918111, 0.38395673,\n",
       "         0.36934458, 0.21363186, 0.19484115, 0.09294899, 0.03200656]),\n",
       "  'dac_ch1': array([ 0.        ,  2.77777778,  5.55555556,  8.33333333, 11.11111111,\n",
       "         13.88888889, 16.66666667, 19.44444444, 22.22222222, 25.        ])}}"
      ]
     },
     "execution_count": 24,
     "metadata": {},
     "output_type": "execute_result"
    }
   ],
   "source": [
    "# All data for all parameters\n",
    "dataset_1d.get_parameter_data()"
   ]
  },
  {
   "cell_type": "code",
   "execution_count": 25,
   "id": "338eb9a4-0611-42af-9de8-adae47638c02",
   "metadata": {},
   "outputs": [
    {
     "data": {
      "text/plain": [
       "{'dac_ch1': {'dac_ch1': array([ 0.        ,  2.77777778,  5.55555556,  8.33333333, 11.11111111,\n",
       "         13.88888889, 16.66666667, 19.44444444, 22.22222222, 25.        ])}}"
      ]
     },
     "execution_count": 25,
     "metadata": {},
     "output_type": "execute_result"
    }
   ],
   "source": [
    "# Data for independent parameter\n",
    "dataset_1d.get_parameter_data('dac_ch1')"
   ]
  },
  {
   "cell_type": "code",
   "execution_count": 26,
   "id": "c850f81e-d26f-4b14-a30f-9e77f1effaaf",
   "metadata": {},
   "outputs": [
    {
     "data": {
      "text/plain": [
       "{'dmm_v1': {'dmm_v1': array([4.86086231, 2.69953177, 1.77117235, 1.03918111, 0.38395673,\n",
       "         0.36934458, 0.21363186, 0.19484115, 0.09294899, 0.03200656]),\n",
       "  'dac_ch1': array([ 0.        ,  2.77777778,  5.55555556,  8.33333333, 11.11111111,\n",
       "         13.88888889, 16.66666667, 19.44444444, 22.22222222, 25.        ])}}"
      ]
     },
     "execution_count": 26,
     "metadata": {},
     "output_type": "execute_result"
    }
   ],
   "source": [
    "# Data for dependent parameter\n",
    "dataset_1d.get_parameter_data('dmm_v1')"
   ]
  },
  {
   "cell_type": "code",
   "execution_count": 27,
   "id": "80fa75be-652c-4a43-ac9c-7f5bdc170fb9",
   "metadata": {},
   "outputs": [
    {
     "data": {
      "text/html": [
       "<div>\n",
       "<style scoped>\n",
       "    .dataframe tbody tr th:only-of-type {\n",
       "        vertical-align: middle;\n",
       "    }\n",
       "\n",
       "    .dataframe tbody tr th {\n",
       "        vertical-align: top;\n",
       "    }\n",
       "\n",
       "    .dataframe thead th {\n",
       "        text-align: right;\n",
       "    }\n",
       "</style>\n",
       "<table border=\"1\" class=\"dataframe\">\n",
       "  <thead>\n",
       "    <tr style=\"text-align: right;\">\n",
       "      <th></th>\n",
       "      <th>dmm_v1</th>\n",
       "    </tr>\n",
       "    <tr>\n",
       "      <th>dac_ch1</th>\n",
       "      <th></th>\n",
       "    </tr>\n",
       "  </thead>\n",
       "  <tbody>\n",
       "    <tr>\n",
       "      <th>0.000000</th>\n",
       "      <td>4.860862</td>\n",
       "    </tr>\n",
       "    <tr>\n",
       "      <th>2.777778</th>\n",
       "      <td>2.699532</td>\n",
       "    </tr>\n",
       "    <tr>\n",
       "      <th>5.555556</th>\n",
       "      <td>1.771172</td>\n",
       "    </tr>\n",
       "    <tr>\n",
       "      <th>8.333333</th>\n",
       "      <td>1.039181</td>\n",
       "    </tr>\n",
       "    <tr>\n",
       "      <th>11.111111</th>\n",
       "      <td>0.383957</td>\n",
       "    </tr>\n",
       "  </tbody>\n",
       "</table>\n",
       "</div>"
      ],
      "text/plain": [
       "             dmm_v1\n",
       "dac_ch1            \n",
       "0.000000   4.860862\n",
       "2.777778   2.699532\n",
       "5.555556   1.771172\n",
       "8.333333   1.039181\n",
       "11.111111  0.383957"
      ]
     },
     "execution_count": 27,
     "metadata": {},
     "output_type": "execute_result"
    }
   ],
   "source": [
    "df = dataset_1d.to_pandas_dataframe()\n",
    "df.head()"
   ]
  },
  {
   "cell_type": "code",
   "execution_count": 28,
   "id": "9e047764-c8e1-409f-8ed3-1f140caf8edd",
   "metadata": {},
   "outputs": [
    {
     "data": {
      "text/html": [
       "<div><svg style=\"position: absolute; width: 0; height: 0; overflow: hidden\">\n",
       "<defs>\n",
       "<symbol id=\"icon-database\" viewBox=\"0 0 32 32\">\n",
       "<path d=\"M16 0c-8.837 0-16 2.239-16 5v4c0 2.761 7.163 5 16 5s16-2.239 16-5v-4c0-2.761-7.163-5-16-5z\"></path>\n",
       "<path d=\"M16 17c-8.837 0-16-2.239-16-5v6c0 2.761 7.163 5 16 5s16-2.239 16-5v-6c0 2.761-7.163 5-16 5z\"></path>\n",
       "<path d=\"M16 26c-8.837 0-16-2.239-16-5v6c0 2.761 7.163 5 16 5s16-2.239 16-5v-6c0 2.761-7.163 5-16 5z\"></path>\n",
       "</symbol>\n",
       "<symbol id=\"icon-file-text2\" viewBox=\"0 0 32 32\">\n",
       "<path d=\"M28.681 7.159c-0.694-0.947-1.662-2.053-2.724-3.116s-2.169-2.030-3.116-2.724c-1.612-1.182-2.393-1.319-2.841-1.319h-15.5c-1.378 0-2.5 1.121-2.5 2.5v27c0 1.378 1.122 2.5 2.5 2.5h23c1.378 0 2.5-1.122 2.5-2.5v-19.5c0-0.448-0.137-1.23-1.319-2.841zM24.543 5.457c0.959 0.959 1.712 1.825 2.268 2.543h-4.811v-4.811c0.718 0.556 1.584 1.309 2.543 2.268zM28 29.5c0 0.271-0.229 0.5-0.5 0.5h-23c-0.271 0-0.5-0.229-0.5-0.5v-27c0-0.271 0.229-0.5 0.5-0.5 0 0 15.499-0 15.5 0v7c0 0.552 0.448 1 1 1h7v19.5z\"></path>\n",
       "<path d=\"M23 26h-14c-0.552 0-1-0.448-1-1s0.448-1 1-1h14c0.552 0 1 0.448 1 1s-0.448 1-1 1z\"></path>\n",
       "<path d=\"M23 22h-14c-0.552 0-1-0.448-1-1s0.448-1 1-1h14c0.552 0 1 0.448 1 1s-0.448 1-1 1z\"></path>\n",
       "<path d=\"M23 18h-14c-0.552 0-1-0.448-1-1s0.448-1 1-1h14c0.552 0 1 0.448 1 1s-0.448 1-1 1z\"></path>\n",
       "</symbol>\n",
       "</defs>\n",
       "</svg>\n",
       "<style>/* CSS stylesheet for displaying xarray objects in jupyterlab.\n",
       " *\n",
       " */\n",
       "\n",
       ":root {\n",
       "  --xr-font-color0: var(--jp-content-font-color0, rgba(0, 0, 0, 1));\n",
       "  --xr-font-color2: var(--jp-content-font-color2, rgba(0, 0, 0, 0.54));\n",
       "  --xr-font-color3: var(--jp-content-font-color3, rgba(0, 0, 0, 0.38));\n",
       "  --xr-border-color: var(--jp-border-color2, #e0e0e0);\n",
       "  --xr-disabled-color: var(--jp-layout-color3, #bdbdbd);\n",
       "  --xr-background-color: var(--jp-layout-color0, white);\n",
       "  --xr-background-color-row-even: var(--jp-layout-color1, white);\n",
       "  --xr-background-color-row-odd: var(--jp-layout-color2, #eeeeee);\n",
       "}\n",
       "\n",
       "html[theme=dark],\n",
       "body[data-theme=dark],\n",
       "body.vscode-dark {\n",
       "  --xr-font-color0: rgba(255, 255, 255, 1);\n",
       "  --xr-font-color2: rgba(255, 255, 255, 0.54);\n",
       "  --xr-font-color3: rgba(255, 255, 255, 0.38);\n",
       "  --xr-border-color: #1F1F1F;\n",
       "  --xr-disabled-color: #515151;\n",
       "  --xr-background-color: #111111;\n",
       "  --xr-background-color-row-even: #111111;\n",
       "  --xr-background-color-row-odd: #313131;\n",
       "}\n",
       "\n",
       ".xr-wrap {\n",
       "  display: block !important;\n",
       "  min-width: 300px;\n",
       "  max-width: 700px;\n",
       "}\n",
       "\n",
       ".xr-text-repr-fallback {\n",
       "  /* fallback to plain text repr when CSS is not injected (untrusted notebook) */\n",
       "  display: none;\n",
       "}\n",
       "\n",
       ".xr-header {\n",
       "  padding-top: 6px;\n",
       "  padding-bottom: 6px;\n",
       "  margin-bottom: 4px;\n",
       "  border-bottom: solid 1px var(--xr-border-color);\n",
       "}\n",
       "\n",
       ".xr-header > div,\n",
       ".xr-header > ul {\n",
       "  display: inline;\n",
       "  margin-top: 0;\n",
       "  margin-bottom: 0;\n",
       "}\n",
       "\n",
       ".xr-obj-type,\n",
       ".xr-array-name {\n",
       "  margin-left: 2px;\n",
       "  margin-right: 10px;\n",
       "}\n",
       "\n",
       ".xr-obj-type {\n",
       "  color: var(--xr-font-color2);\n",
       "}\n",
       "\n",
       ".xr-sections {\n",
       "  padding-left: 0 !important;\n",
       "  display: grid;\n",
       "  grid-template-columns: 150px auto auto 1fr 20px 20px;\n",
       "}\n",
       "\n",
       ".xr-section-item {\n",
       "  display: contents;\n",
       "}\n",
       "\n",
       ".xr-section-item input {\n",
       "  display: none;\n",
       "}\n",
       "\n",
       ".xr-section-item input + label {\n",
       "  color: var(--xr-disabled-color);\n",
       "}\n",
       "\n",
       ".xr-section-item input:enabled + label {\n",
       "  cursor: pointer;\n",
       "  color: var(--xr-font-color2);\n",
       "}\n",
       "\n",
       ".xr-section-item input:enabled + label:hover {\n",
       "  color: var(--xr-font-color0);\n",
       "}\n",
       "\n",
       ".xr-section-summary {\n",
       "  grid-column: 1;\n",
       "  color: var(--xr-font-color2);\n",
       "  font-weight: 500;\n",
       "}\n",
       "\n",
       ".xr-section-summary > span {\n",
       "  display: inline-block;\n",
       "  padding-left: 0.5em;\n",
       "}\n",
       "\n",
       ".xr-section-summary-in:disabled + label {\n",
       "  color: var(--xr-font-color2);\n",
       "}\n",
       "\n",
       ".xr-section-summary-in + label:before {\n",
       "  display: inline-block;\n",
       "  content: '►';\n",
       "  font-size: 11px;\n",
       "  width: 15px;\n",
       "  text-align: center;\n",
       "}\n",
       "\n",
       ".xr-section-summary-in:disabled + label:before {\n",
       "  color: var(--xr-disabled-color);\n",
       "}\n",
       "\n",
       ".xr-section-summary-in:checked + label:before {\n",
       "  content: '▼';\n",
       "}\n",
       "\n",
       ".xr-section-summary-in:checked + label > span {\n",
       "  display: none;\n",
       "}\n",
       "\n",
       ".xr-section-summary,\n",
       ".xr-section-inline-details {\n",
       "  padding-top: 4px;\n",
       "  padding-bottom: 4px;\n",
       "}\n",
       "\n",
       ".xr-section-inline-details {\n",
       "  grid-column: 2 / -1;\n",
       "}\n",
       "\n",
       ".xr-section-details {\n",
       "  display: none;\n",
       "  grid-column: 1 / -1;\n",
       "  margin-bottom: 5px;\n",
       "}\n",
       "\n",
       ".xr-section-summary-in:checked ~ .xr-section-details {\n",
       "  display: contents;\n",
       "}\n",
       "\n",
       ".xr-array-wrap {\n",
       "  grid-column: 1 / -1;\n",
       "  display: grid;\n",
       "  grid-template-columns: 20px auto;\n",
       "}\n",
       "\n",
       ".xr-array-wrap > label {\n",
       "  grid-column: 1;\n",
       "  vertical-align: top;\n",
       "}\n",
       "\n",
       ".xr-preview {\n",
       "  color: var(--xr-font-color3);\n",
       "}\n",
       "\n",
       ".xr-array-preview,\n",
       ".xr-array-data {\n",
       "  padding: 0 5px !important;\n",
       "  grid-column: 2;\n",
       "}\n",
       "\n",
       ".xr-array-data,\n",
       ".xr-array-in:checked ~ .xr-array-preview {\n",
       "  display: none;\n",
       "}\n",
       "\n",
       ".xr-array-in:checked ~ .xr-array-data,\n",
       ".xr-array-preview {\n",
       "  display: inline-block;\n",
       "}\n",
       "\n",
       ".xr-dim-list {\n",
       "  display: inline-block !important;\n",
       "  list-style: none;\n",
       "  padding: 0 !important;\n",
       "  margin: 0;\n",
       "}\n",
       "\n",
       ".xr-dim-list li {\n",
       "  display: inline-block;\n",
       "  padding: 0;\n",
       "  margin: 0;\n",
       "}\n",
       "\n",
       ".xr-dim-list:before {\n",
       "  content: '(';\n",
       "}\n",
       "\n",
       ".xr-dim-list:after {\n",
       "  content: ')';\n",
       "}\n",
       "\n",
       ".xr-dim-list li:not(:last-child):after {\n",
       "  content: ',';\n",
       "  padding-right: 5px;\n",
       "}\n",
       "\n",
       ".xr-has-index {\n",
       "  font-weight: bold;\n",
       "}\n",
       "\n",
       ".xr-var-list,\n",
       ".xr-var-item {\n",
       "  display: contents;\n",
       "}\n",
       "\n",
       ".xr-var-item > div,\n",
       ".xr-var-item label,\n",
       ".xr-var-item > .xr-var-name span {\n",
       "  background-color: var(--xr-background-color-row-even);\n",
       "  margin-bottom: 0;\n",
       "}\n",
       "\n",
       ".xr-var-item > .xr-var-name:hover span {\n",
       "  padding-right: 5px;\n",
       "}\n",
       "\n",
       ".xr-var-list > li:nth-child(odd) > div,\n",
       ".xr-var-list > li:nth-child(odd) > label,\n",
       ".xr-var-list > li:nth-child(odd) > .xr-var-name span {\n",
       "  background-color: var(--xr-background-color-row-odd);\n",
       "}\n",
       "\n",
       ".xr-var-name {\n",
       "  grid-column: 1;\n",
       "}\n",
       "\n",
       ".xr-var-dims {\n",
       "  grid-column: 2;\n",
       "}\n",
       "\n",
       ".xr-var-dtype {\n",
       "  grid-column: 3;\n",
       "  text-align: right;\n",
       "  color: var(--xr-font-color2);\n",
       "}\n",
       "\n",
       ".xr-var-preview {\n",
       "  grid-column: 4;\n",
       "}\n",
       "\n",
       ".xr-index-preview {\n",
       "  grid-column: 2 / 5;\n",
       "  color: var(--xr-font-color2);\n",
       "}\n",
       "\n",
       ".xr-var-name,\n",
       ".xr-var-dims,\n",
       ".xr-var-dtype,\n",
       ".xr-preview,\n",
       ".xr-attrs dt {\n",
       "  white-space: nowrap;\n",
       "  overflow: hidden;\n",
       "  text-overflow: ellipsis;\n",
       "  padding-right: 10px;\n",
       "}\n",
       "\n",
       ".xr-var-name:hover,\n",
       ".xr-var-dims:hover,\n",
       ".xr-var-dtype:hover,\n",
       ".xr-attrs dt:hover {\n",
       "  overflow: visible;\n",
       "  width: auto;\n",
       "  z-index: 1;\n",
       "}\n",
       "\n",
       ".xr-var-attrs,\n",
       ".xr-var-data,\n",
       ".xr-index-data {\n",
       "  display: none;\n",
       "  background-color: var(--xr-background-color) !important;\n",
       "  padding-bottom: 5px !important;\n",
       "}\n",
       "\n",
       ".xr-var-attrs-in:checked ~ .xr-var-attrs,\n",
       ".xr-var-data-in:checked ~ .xr-var-data,\n",
       ".xr-index-data-in:checked ~ .xr-index-data {\n",
       "  display: block;\n",
       "}\n",
       "\n",
       ".xr-var-data > table {\n",
       "  float: right;\n",
       "}\n",
       "\n",
       ".xr-var-name span,\n",
       ".xr-var-data,\n",
       ".xr-index-name div,\n",
       ".xr-index-data,\n",
       ".xr-attrs {\n",
       "  padding-left: 25px !important;\n",
       "}\n",
       "\n",
       ".xr-attrs,\n",
       ".xr-var-attrs,\n",
       ".xr-var-data,\n",
       ".xr-index-data {\n",
       "  grid-column: 1 / -1;\n",
       "}\n",
       "\n",
       "dl.xr-attrs {\n",
       "  padding: 0;\n",
       "  margin: 0;\n",
       "  display: grid;\n",
       "  grid-template-columns: 125px auto;\n",
       "}\n",
       "\n",
       ".xr-attrs dt,\n",
       ".xr-attrs dd {\n",
       "  padding: 0;\n",
       "  margin: 0;\n",
       "  float: left;\n",
       "  padding-right: 10px;\n",
       "  width: auto;\n",
       "}\n",
       "\n",
       ".xr-attrs dt {\n",
       "  font-weight: normal;\n",
       "  grid-column: 1;\n",
       "}\n",
       "\n",
       ".xr-attrs dt:hover span {\n",
       "  display: inline-block;\n",
       "  background: var(--xr-background-color);\n",
       "  padding-right: 10px;\n",
       "}\n",
       "\n",
       ".xr-attrs dd {\n",
       "  grid-column: 2;\n",
       "  white-space: pre-wrap;\n",
       "  word-break: break-all;\n",
       "}\n",
       "\n",
       ".xr-icon-database,\n",
       ".xr-icon-file-text2,\n",
       ".xr-no-icon {\n",
       "  display: inline-block;\n",
       "  vertical-align: middle;\n",
       "  width: 1em;\n",
       "  height: 1.5em !important;\n",
       "  stroke-width: 0;\n",
       "  stroke: currentColor;\n",
       "  fill: currentColor;\n",
       "}\n",
       "</style><pre class='xr-text-repr-fallback'>&lt;xarray.Dataset&gt;\n",
       "Dimensions:  (dac_ch1: 10)\n",
       "Coordinates:\n",
       "  * dac_ch1  (dac_ch1) float64 0.0 2.778 5.556 8.333 ... 16.67 19.44 22.22 25.0\n",
       "Data variables:\n",
       "    dmm_v1   (dac_ch1) float64 4.861 2.7 1.771 1.039 ... 0.1948 0.09295 0.03201\n",
       "Attributes: (12/14)\n",
       "    ds_name:                  context_example\n",
       "    sample_name:              synthetic data\n",
       "    exp_name:                 tutorial_exp\n",
       "    snapshot:                 {&quot;station&quot;: {&quot;instruments&quot;: {&quot;dac&quot;: {&quot;functions...\n",
       "    guid:                     36724b09-0000-0000-0000-0189fdef62f0\n",
       "    run_timestamp:            2023-08-16 12:41:11\n",
       "    ...                       ...\n",
       "    captured_counter:         1\n",
       "    run_id:                   1\n",
       "    run_description:          {&quot;version&quot;: 3, &quot;interdependencies&quot;: {&quot;paramspec...\n",
       "    parent_dataset_links:     []\n",
       "    run_timestamp_raw:        1692182471.4290888\n",
       "    completed_timestamp_raw:  1692182471.4340997</pre><div class='xr-wrap' style='display:none'><div class='xr-header'><div class='xr-obj-type'>xarray.Dataset</div></div><ul class='xr-sections'><li class='xr-section-item'><input id='section-77a7f017-2047-4acd-a050-0216ab55b1f9' class='xr-section-summary-in' type='checkbox' disabled ><label for='section-77a7f017-2047-4acd-a050-0216ab55b1f9' class='xr-section-summary'  title='Expand/collapse section'>Dimensions:</label><div class='xr-section-inline-details'><ul class='xr-dim-list'><li><span class='xr-has-index'>dac_ch1</span>: 10</li></ul></div><div class='xr-section-details'></div></li><li class='xr-section-item'><input id='section-b7319c81-e54a-4e9d-a98d-b5652f8e7450' class='xr-section-summary-in' type='checkbox'  checked><label for='section-b7319c81-e54a-4e9d-a98d-b5652f8e7450' class='xr-section-summary' >Coordinates: <span>(1)</span></label><div class='xr-section-inline-details'></div><div class='xr-section-details'><ul class='xr-var-list'><li class='xr-var-item'><div class='xr-var-name'><span class='xr-has-index'>dac_ch1</span></div><div class='xr-var-dims'>(dac_ch1)</div><div class='xr-var-dtype'>float64</div><div class='xr-var-preview xr-preview'>0.0 2.778 5.556 ... 22.22 25.0</div><input id='attrs-f80d9f86-4b93-41ef-a3cc-e2b309528981' class='xr-var-attrs-in' type='checkbox' ><label for='attrs-f80d9f86-4b93-41ef-a3cc-e2b309528981' title='Show/Hide attributes'><svg class='icon xr-icon-file-text2'><use xlink:href='#icon-file-text2'></use></svg></label><input id='data-a3901bf4-412d-40e9-9d7f-3732116cd992' class='xr-var-data-in' type='checkbox'><label for='data-a3901bf4-412d-40e9-9d7f-3732116cd992' title='Show/Hide data repr'><svg class='icon xr-icon-database'><use xlink:href='#icon-database'></use></svg></label><div class='xr-var-attrs'><dl class='xr-attrs'><dt><span>name :</span></dt><dd>dac_ch1</dd><dt><span>paramtype :</span></dt><dd>numeric</dd><dt><span>label :</span></dt><dd>Gate ch1</dd><dt><span>unit :</span></dt><dd>V</dd><dt><span>inferred_from :</span></dt><dd>[]</dd><dt><span>depends_on :</span></dt><dd>[]</dd><dt><span>units :</span></dt><dd>V</dd><dt><span>long_name :</span></dt><dd>Gate ch1</dd></dl></div><div class='xr-var-data'><pre>array([ 0.      ,  2.777778,  5.555556,  8.333333, 11.111111, 13.888889,\n",
       "       16.666667, 19.444444, 22.222222, 25.      ])</pre></div></li></ul></div></li><li class='xr-section-item'><input id='section-206fa6fc-2f46-40ab-a5c7-94bbd51e0f4f' class='xr-section-summary-in' type='checkbox'  checked><label for='section-206fa6fc-2f46-40ab-a5c7-94bbd51e0f4f' class='xr-section-summary' >Data variables: <span>(1)</span></label><div class='xr-section-inline-details'></div><div class='xr-section-details'><ul class='xr-var-list'><li class='xr-var-item'><div class='xr-var-name'><span>dmm_v1</span></div><div class='xr-var-dims'>(dac_ch1)</div><div class='xr-var-dtype'>float64</div><div class='xr-var-preview xr-preview'>4.861 2.7 1.771 ... 0.09295 0.03201</div><input id='attrs-26db4dc9-9083-4b81-9890-6a82e963556f' class='xr-var-attrs-in' type='checkbox' ><label for='attrs-26db4dc9-9083-4b81-9890-6a82e963556f' title='Show/Hide attributes'><svg class='icon xr-icon-file-text2'><use xlink:href='#icon-file-text2'></use></svg></label><input id='data-72e8ed7f-3cd3-4eb5-b59e-e6d096141f9c' class='xr-var-data-in' type='checkbox'><label for='data-72e8ed7f-3cd3-4eb5-b59e-e6d096141f9c' title='Show/Hide data repr'><svg class='icon xr-icon-database'><use xlink:href='#icon-database'></use></svg></label><div class='xr-var-attrs'><dl class='xr-attrs'><dt><span>name :</span></dt><dd>dmm_v1</dd><dt><span>paramtype :</span></dt><dd>numeric</dd><dt><span>label :</span></dt><dd>Gate v1</dd><dt><span>unit :</span></dt><dd>V</dd><dt><span>inferred_from :</span></dt><dd>[]</dd><dt><span>depends_on :</span></dt><dd>[&#x27;dac_ch1&#x27;]</dd><dt><span>units :</span></dt><dd>V</dd><dt><span>long_name :</span></dt><dd>Gate v1</dd></dl></div><div class='xr-var-data'><pre>array([4.86086231, 2.69953177, 1.77117235, 1.03918111, 0.38395673,\n",
       "       0.36934458, 0.21363186, 0.19484115, 0.09294899, 0.03200656])</pre></div></li></ul></div></li><li class='xr-section-item'><input id='section-861b15ed-8f1f-4976-982a-c98c68a495b0' class='xr-section-summary-in' type='checkbox'  ><label for='section-861b15ed-8f1f-4976-982a-c98c68a495b0' class='xr-section-summary' >Indexes: <span>(1)</span></label><div class='xr-section-inline-details'></div><div class='xr-section-details'><ul class='xr-var-list'><li class='xr-var-item'><div class='xr-index-name'><div>dac_ch1</div></div><div class='xr-index-preview'>PandasIndex</div><div></div><input id='index-0a8b91f2-9536-4683-a0bb-dc5e746b5b43' class='xr-index-data-in' type='checkbox'/><label for='index-0a8b91f2-9536-4683-a0bb-dc5e746b5b43' title='Show/Hide index repr'><svg class='icon xr-icon-database'><use xlink:href='#icon-database'></use></svg></label><div class='xr-index-data'><pre>PandasIndex(Index([             0.0, 2.77777777777778, 5.55555555555556, 8.33333333333333,\n",
       "       11.1111111111111, 13.8888888888889, 16.6666666666667, 19.4444444444444,\n",
       "       22.2222222222222,             25.0],\n",
       "      dtype=&#x27;float64&#x27;, name=&#x27;dac_ch1&#x27;))</pre></div></li></ul></div></li><li class='xr-section-item'><input id='section-74e172d3-7716-43cf-be29-0c8f257aa717' class='xr-section-summary-in' type='checkbox'  ><label for='section-74e172d3-7716-43cf-be29-0c8f257aa717' class='xr-section-summary' >Attributes: <span>(14)</span></label><div class='xr-section-inline-details'></div><div class='xr-section-details'><dl class='xr-attrs'><dt><span>ds_name :</span></dt><dd>context_example</dd><dt><span>sample_name :</span></dt><dd>synthetic data</dd><dt><span>exp_name :</span></dt><dd>tutorial_exp</dd><dt><span>snapshot :</span></dt><dd>{&quot;station&quot;: {&quot;instruments&quot;: {&quot;dac&quot;: {&quot;functions&quot;: {}, &quot;submodules&quot;: {}, &quot;parameters&quot;: {&quot;IDN&quot;: {&quot;__class__&quot;: &quot;qcodes.parameters.parameter.Parameter&quot;, &quot;full_name&quot;: &quot;dac_IDN&quot;, &quot;value&quot;: {&quot;vendor&quot;: &quot;QCoDeS&quot;, &quot;model&quot;: &quot;&lt;class &#x27;qcodes.tests.instrument_mocks.DummyInstrument&#x27;&gt;&quot;, &quot;seral&quot;: &quot;NA&quot;, &quot;firmware&quot;: &quot;NA&quot;}, &quot;raw_value&quot;: {&quot;vendor&quot;: &quot;QCoDeS&quot;, &quot;model&quot;: &quot;&lt;class &#x27;qcodes.tests.instrument_mocks.DummyInstrument&#x27;&gt;&quot;, &quot;seral&quot;: &quot;NA&quot;, &quot;firmware&quot;: &quot;NA&quot;}, &quot;ts&quot;: &quot;2023-08-16 12:40:10&quot;, &quot;instrument&quot;: &quot;qcodes.tests.instrument_mocks.DummyInstrument&quot;, &quot;instrument_name&quot;: &quot;dac&quot;, &quot;label&quot;: &quot;IDN&quot;, &quot;inter_delay&quot;: 0, &quot;post_delay&quot;: 0, &quot;name&quot;: &quot;IDN&quot;, &quot;vals&quot;: &quot;&lt;Anything&gt;&quot;, &quot;unit&quot;: &quot;&quot;}, &quot;ch1&quot;: {&quot;__class__&quot;: &quot;qcodes.parameters.parameter.Parameter&quot;, &quot;full_name&quot;: &quot;dac_ch1&quot;, &quot;value&quot;: 1.1, &quot;raw_value&quot;: 1.1, &quot;ts&quot;: &quot;2023-08-16 12:40:10&quot;, &quot;instrument&quot;: &quot;qcodes.tests.instrument_mocks.DummyInstrument&quot;, &quot;instrument_name&quot;: &quot;dac&quot;, &quot;label&quot;: &quot;Gate ch1&quot;, &quot;inter_delay&quot;: 0, &quot;post_delay&quot;: 0, &quot;name&quot;: &quot;ch1&quot;, &quot;vals&quot;: &quot;&lt;Numbers -800&lt;=v&lt;=400&gt;&quot;, &quot;unit&quot;: &quot;V&quot;}, &quot;ch2&quot;: {&quot;__class__&quot;: &quot;qcodes.parameters.parameter.Parameter&quot;, &quot;full_name&quot;: &quot;dac_ch2&quot;, &quot;value&quot;: 0, &quot;raw_value&quot;: 0, &quot;ts&quot;: &quot;2023-08-16 12:40:10&quot;, &quot;instrument&quot;: &quot;qcodes.tests.instrument_mocks.DummyInstrument&quot;, &quot;instrument_name&quot;: &quot;dac&quot;, &quot;label&quot;: &quot;Gate ch2&quot;, &quot;inter_delay&quot;: 0, &quot;post_delay&quot;: 0, &quot;name&quot;: &quot;ch2&quot;, &quot;vals&quot;: &quot;&lt;Numbers -800&lt;=v&lt;=400&gt;&quot;, &quot;unit&quot;: &quot;V&quot;}}, &quot;__class__&quot;: &quot;qcodes.tests.instrument_mocks.DummyInstrument&quot;, &quot;name&quot;: &quot;dac&quot;, &quot;label&quot;: &quot;dac&quot;}, &quot;dmm&quot;: {&quot;functions&quot;: {}, &quot;submodules&quot;: {}, &quot;parameters&quot;: {&quot;IDN&quot;: {&quot;__class__&quot;: &quot;qcodes.parameters.parameter.Parameter&quot;, &quot;full_name&quot;: &quot;dmm_IDN&quot;, &quot;value&quot;: {&quot;vendor&quot;: &quot;QCoDeS&quot;, &quot;model&quot;: &quot;&lt;class &#x27;qcodes.tests.instrument_mocks.DummyInstrumentWithMeasurement&#x27;&gt;&quot;, &quot;seral&quot;: &quot;NA&quot;, &quot;firmware&quot;: &quot;NA&quot;}, &quot;raw_value&quot;: {&quot;vendor&quot;: &quot;QCoDeS&quot;, &quot;model&quot;: &quot;&lt;class &#x27;qcodes.tests.instrument_mocks.DummyInstrumentWithMeasurement&#x27;&gt;&quot;, &quot;seral&quot;: &quot;NA&quot;, &quot;firmware&quot;: &quot;NA&quot;}, &quot;ts&quot;: &quot;2023-08-16 12:40:10&quot;, &quot;instrument&quot;: &quot;qcodes.tests.instrument_mocks.DummyInstrumentWithMeasurement&quot;, &quot;instrument_name&quot;: &quot;dmm&quot;, &quot;label&quot;: &quot;IDN&quot;, &quot;inter_delay&quot;: 0, &quot;post_delay&quot;: 0, &quot;name&quot;: &quot;IDN&quot;, &quot;vals&quot;: &quot;&lt;Anything&gt;&quot;, &quot;unit&quot;: &quot;&quot;}, &quot;v1&quot;: {&quot;__class__&quot;: &quot;qcodes.tests.instrument_mocks.DmmExponentialParameter&quot;, &quot;full_name&quot;: &quot;dmm_v1&quot;, &quot;value&quot;: 4.129244694543171, &quot;raw_value&quot;: 4.129244694543171, &quot;ts&quot;: &quot;2023-08-16 12:40:10&quot;, &quot;instrument&quot;: &quot;qcodes.tests.instrument_mocks.DummyInstrumentWithMeasurement&quot;, &quot;instrument_name&quot;: &quot;dmm&quot;, &quot;label&quot;: &quot;Gate v1&quot;, &quot;inter_delay&quot;: 0, &quot;post_delay&quot;: 0, &quot;name&quot;: &quot;v1&quot;, &quot;vals&quot;: &quot;&lt;Numbers -800&lt;=v&lt;=400&gt;&quot;, &quot;unit&quot;: &quot;V&quot;}, &quot;v2&quot;: {&quot;__class__&quot;: &quot;qcodes.tests.instrument_mocks.DmmGaussParameter&quot;, &quot;full_name&quot;: &quot;dmm_v2&quot;, &quot;value&quot;: 0.0002682644792748686, &quot;raw_value&quot;: 0.0002682644792748686, &quot;ts&quot;: &quot;2023-08-16 12:40:10&quot;, &quot;instrument&quot;: &quot;qcodes.tests.instrument_mocks.DummyInstrumentWithMeasurement&quot;, &quot;instrument_name&quot;: &quot;dmm&quot;, &quot;label&quot;: &quot;Gate v2&quot;, &quot;inter_delay&quot;: 0, &quot;post_delay&quot;: 0, &quot;name&quot;: &quot;v2&quot;, &quot;vals&quot;: &quot;&lt;Numbers -800&lt;=v&lt;=400&gt;&quot;, &quot;unit&quot;: &quot;V&quot;}}, &quot;__class__&quot;: &quot;qcodes.tests.instrument_mocks.DummyInstrumentWithMeasurement&quot;, &quot;name&quot;: &quot;dmm&quot;, &quot;label&quot;: &quot;dmm&quot;}}, &quot;parameters&quot;: {}, &quot;components&quot;: {}, &quot;config&quot;: null}}</dd><dt><span>guid :</span></dt><dd>36724b09-0000-0000-0000-0189fdef62f0</dd><dt><span>run_timestamp :</span></dt><dd>2023-08-16 12:41:11</dd><dt><span>completed_timestamp :</span></dt><dd>2023-08-16 12:41:11</dd><dt><span>captured_run_id :</span></dt><dd>1</dd><dt><span>captured_counter :</span></dt><dd>1</dd><dt><span>run_id :</span></dt><dd>1</dd><dt><span>run_description :</span></dt><dd>{&quot;version&quot;: 3, &quot;interdependencies&quot;: {&quot;paramspecs&quot;: [{&quot;name&quot;: &quot;dac_ch1&quot;, &quot;paramtype&quot;: &quot;numeric&quot;, &quot;label&quot;: &quot;Gate ch1&quot;, &quot;unit&quot;: &quot;V&quot;, &quot;inferred_from&quot;: [], &quot;depends_on&quot;: []}, {&quot;name&quot;: &quot;dmm_v1&quot;, &quot;paramtype&quot;: &quot;numeric&quot;, &quot;label&quot;: &quot;Gate v1&quot;, &quot;unit&quot;: &quot;V&quot;, &quot;inferred_from&quot;: [], &quot;depends_on&quot;: [&quot;dac_ch1&quot;]}]}, &quot;interdependencies_&quot;: {&quot;parameters&quot;: {&quot;dmm_v1&quot;: {&quot;name&quot;: &quot;dmm_v1&quot;, &quot;paramtype&quot;: &quot;numeric&quot;, &quot;label&quot;: &quot;Gate v1&quot;, &quot;unit&quot;: &quot;V&quot;}, &quot;dac_ch1&quot;: {&quot;name&quot;: &quot;dac_ch1&quot;, &quot;paramtype&quot;: &quot;numeric&quot;, &quot;label&quot;: &quot;Gate ch1&quot;, &quot;unit&quot;: &quot;V&quot;}}, &quot;dependencies&quot;: {&quot;dmm_v1&quot;: [&quot;dac_ch1&quot;]}, &quot;inferences&quot;: {}, &quot;standalones&quot;: []}, &quot;shapes&quot;: null}</dd><dt><span>parent_dataset_links :</span></dt><dd>[]</dd><dt><span>run_timestamp_raw :</span></dt><dd>1692182471.4290888</dd><dt><span>completed_timestamp_raw :</span></dt><dd>1692182471.4340997</dd></dl></div></li></ul></div></div>"
      ],
      "text/plain": [
       "<xarray.Dataset>\n",
       "Dimensions:  (dac_ch1: 10)\n",
       "Coordinates:\n",
       "  * dac_ch1  (dac_ch1) float64 0.0 2.778 5.556 8.333 ... 16.67 19.44 22.22 25.0\n",
       "Data variables:\n",
       "    dmm_v1   (dac_ch1) float64 4.861 2.7 1.771 1.039 ... 0.1948 0.09295 0.03201\n",
       "Attributes: (12/14)\n",
       "    ds_name:                  context_example\n",
       "    sample_name:              synthetic data\n",
       "    exp_name:                 tutorial_exp\n",
       "    snapshot:                 {\"station\": {\"instruments\": {\"dac\": {\"functions...\n",
       "    guid:                     36724b09-0000-0000-0000-0189fdef62f0\n",
       "    run_timestamp:            2023-08-16 12:41:11\n",
       "    ...                       ...\n",
       "    captured_counter:         1\n",
       "    run_id:                   1\n",
       "    run_description:          {\"version\": 3, \"interdependencies\": {\"paramspec...\n",
       "    parent_dataset_links:     []\n",
       "    run_timestamp_raw:        1692182471.4290888\n",
       "    completed_timestamp_raw:  1692182471.4340997"
      ]
     },
     "execution_count": 28,
     "metadata": {},
     "output_type": "execute_result"
    }
   ],
   "source": [
    "xr_dataset = dataset_1d.to_xarray_dataset()\n",
    "xr_dataset"
   ]
  },
  {
   "cell_type": "code",
   "execution_count": 29,
   "id": "c6787ac2-2e88-4ef1-bdb7-5058a2be8eac",
   "metadata": {},
   "outputs": [
    {
     "data": {
      "application/vnd.jupyter.widget-view+json": {
       "model_id": "9fd0e16361904de696b0574dd7b14dca",
       "version_major": 2,
       "version_minor": 0
      },
      "text/plain": [
       "VBox(children=(HTML(value='<h1>QCoDeS experiments widget</h1>'), Tab(children=(Output(),), selected_index=0, t…"
      ]
     },
     "execution_count": 29,
     "metadata": {},
     "output_type": "execute_result"
    }
   ],
   "source": [
    "experiments_widget(sort_by=\"timestamp\")"
   ]
  },
  {
   "cell_type": "code",
   "execution_count": null,
   "id": "35e60077-fbe7-4af2-95c6-c4e7aaea7d7e",
   "metadata": {},
   "outputs": [],
   "source": []
  },
  {
   "cell_type": "code",
   "execution_count": null,
   "id": "3147f983-24e6-4cba-8e9a-cdbcaaa53c26",
   "metadata": {},
   "outputs": [],
   "source": []
  }
 ],
 "metadata": {
  "kernelspec": {
   "display_name": "Python 3 Quantify Env",
   "language": "python",
   "name": "quantify-env"
  },
  "language_info": {
   "codemirror_mode": {
    "name": "ipython",
    "version": 3
   },
   "file_extension": ".py",
   "mimetype": "text/x-python",
   "name": "python",
   "nbconvert_exporter": "python",
   "pygments_lexer": "ipython3",
   "version": "3.8.17"
  }
 },
 "nbformat": 4,
 "nbformat_minor": 5
}
